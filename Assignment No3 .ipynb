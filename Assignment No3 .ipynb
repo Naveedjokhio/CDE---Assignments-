{
 "cells": [
  {
   "cell_type": "markdown",
   "id": "cd6ce9ad-b401-4fc5-82f5-754c7133c853",
   "metadata": {},
   "source": [
    "# Write a program that accepts a string from user. Your program should count and display number of vowels in that string. \n"
   ]
  },
  {
   "cell_type": "code",
   "execution_count": 6,
   "id": "da74f0fd-7545-4836-aff6-0cc9e3c3a97e",
   "metadata": {},
   "outputs": [
    {
     "name": "stdin",
     "output_type": "stream",
     "text": [
      "Enter a word:  uye\n"
     ]
    },
    {
     "name": "stdout",
     "output_type": "stream",
     "text": [
      "Vowels: 2\n"
     ]
    }
   ],
   "source": [
    "text = input(\"Enter a word: \")\n",
    "count = 0\n",
    "for letter in text:\n",
    "    if letter in 'aeiouAEIOU':\n",
    "        count += 1\n",
    "print(\"Vowels:\", count)"
   ]
  },
  {
   "cell_type": "markdown",
   "id": "ce9bef8a-849a-4c36-9fda-60bea079ee81",
   "metadata": {},
   "source": [
    "# 2. Write a program that reads a string from keyboard and display:\n",
    "* The number of uppercase letters in the string\n",
    "* The number of lowercase letters in the string\n",
    "* The number of digits in the string\n",
    "* The number of whitespace characters in the string"
   ]
  },
  {
   "cell_type": "code",
   "execution_count": null,
   "id": "675b9fcc-070f-4b8c-bd56-4aca96f7868c",
   "metadata": {},
   "outputs": [],
   "source": []
  },
  {
   "cell_type": "markdown",
   "id": "1248f06d-8a7f-4042-992b-5113e74c50bb",
   "metadata": {},
   "source": [
    "# Write a Python program that accepts a string from user. \n",
    "Your program should create and display anew string where the first and last characters have been exchanged.\n",
    "For example if the user enters the string 'HELLO' then new string would be 'OELLH' "
   ]
  },
  {
   "cell_type": "code",
   "execution_count": 10,
   "id": "1d6e10fc-65ab-4f4c-94f7-5d8f7bd844ea",
   "metadata": {},
   "outputs": [
    {
     "name": "stdin",
     "output_type": "stream",
     "text": [
      "Display Value:  knj\n"
     ]
    },
    {
     "ename": "AttributeError",
     "evalue": "'str' object has no attribute 'reverse'",
     "output_type": "error",
     "traceback": [
      "\u001b[1;31m---------------------------------------------------------------------------\u001b[0m",
      "\u001b[1;31mAttributeError\u001b[0m                            Traceback (most recent call last)",
      "Cell \u001b[1;32mIn[10], line 2\u001b[0m\n\u001b[0;32m      1\u001b[0m Display\u001b[38;5;241m=\u001b[39m\u001b[38;5;28minput\u001b[39m(\u001b[38;5;124m\"\u001b[39m\u001b[38;5;124mDisplay Value: \u001b[39m\u001b[38;5;124m\"\u001b[39m)\n\u001b[1;32m----> 2\u001b[0m Display \u001b[38;5;241m.\u001b[39mreverse() \n\u001b[0;32m      3\u001b[0m \u001b[38;5;28mprint\u001b[39m(Display)\n",
      "\u001b[1;31mAttributeError\u001b[0m: 'str' object has no attribute 'reverse'"
     ]
    }
   ],
   "source": [
    "Display=input(\"Display Value: \")\n",
    "Display .reverse() \n",
    "print(Display)"
   ]
  },
  {
   "cell_type": "markdown",
   "id": "20bddc1b-e12c-47a5-be98-f85a851b495a",
   "metadata": {},
   "source": [
    "# 4. Write a Python program that accepts a string from user.\n",
    "Your program should create a new string in reverse of first string and display it.\n",
    "For example if the user enters the string 'EXAM' then new string would be 'MAXE'"
   ]
  },
  {
   "cell_type": "code",
   "execution_count": 16,
   "id": "a8dff4d1-6fd7-4072-92d6-a7dcce1bf37c",
   "metadata": {},
   "outputs": [
    {
     "name": "stdin",
     "output_type": "stream",
     "text": [
      "Enter A value 234\n"
     ]
    },
    {
     "ename": "NameError",
     "evalue": "name 'Change' is not defined",
     "output_type": "error",
     "traceback": [
      "\u001b[1;31m---------------------------------------------------------------------------\u001b[0m",
      "\u001b[1;31mNameError\u001b[0m                                 Traceback (most recent call last)",
      "Cell \u001b[1;32mIn[16], line 2\u001b[0m\n\u001b[0;32m      1\u001b[0m Value\u001b[38;5;241m=\u001b[39m\u001b[38;5;28mstr\u001b[39m(\u001b[38;5;28minput\u001b[39m(\u001b[38;5;124m\"\u001b[39m\u001b[38;5;124mEnter A value\u001b[39m\u001b[38;5;124m\"\u001b[39m))\n\u001b[1;32m----> 2\u001b[0m Change\u001b[38;5;241m.\u001b[39mreverse()\n",
      "\u001b[1;31mNameError\u001b[0m: name 'Change' is not defined"
     ]
    }
   ],
   "source": [
    "Value=str(input(\"Enter A value\"))\n",
    "Change.reverse()\n",
    "print()"
   ]
  },
  {
   "cell_type": "code",
   "execution_count": null,
   "id": "d055b9e2-efd8-44b0-bf06-c0eefd2bd1cd",
   "metadata": {},
   "outputs": [],
   "source": []
  }
 ],
 "metadata": {
  "kernelspec": {
   "display_name": "Python 3 (ipykernel)",
   "language": "python",
   "name": "python3"
  },
  "language_info": {
   "codemirror_mode": {
    "name": "ipython",
    "version": 3
   },
   "file_extension": ".py",
   "mimetype": "text/x-python",
   "name": "python",
   "nbconvert_exporter": "python",
   "pygments_lexer": "ipython3",
   "version": "3.12.7"
  }
 },
 "nbformat": 4,
 "nbformat_minor": 5
}
